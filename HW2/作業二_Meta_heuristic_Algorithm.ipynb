{
  "nbformat": 4,
  "nbformat_minor": 0,
  "metadata": {
    "colab": {
      "provenance": [],
      "gpuType": "T4"
    },
    "kernelspec": {
      "name": "python3",
      "display_name": "Python 3"
    },
    "language_info": {
      "name": "python"
    },
    "accelerator": "GPU"
  },
  "cells": [
    {
      "cell_type": "code",
      "execution_count": 1,
      "metadata": {
        "colab": {
          "base_uri": "https://localhost:8080/"
        },
        "id": "JOcuoEGzW1R_",
        "outputId": "641e81a5-67d1-4930-df98-4d8423eb0b1b"
      },
      "outputs": [
        {
          "output_type": "stream",
          "name": "stdout",
          "text": [
            "Mounted at /content/gdrive\n"
          ]
        }
      ],
      "source": [
        "# 授權colab存取雲端硬碟\n",
        "from google.colab import drive\n",
        "import numpy as np\n",
        "drive.mount('/content/gdrive') # 需登入googel帳號\n",
        "\n",
        "# 讀取資料\n",
        "folder_path = '/content/gdrive/My Drive/Meta-heuristic Algorithm'\n",
        "with open(folder_path+'/p06_c.txt', 'r') as f:\n",
        "  bag_capacity = int(f.read())  # 與下方所有函數中的capacity做區隔\n",
        "\n",
        "with open(folder_path+'/p06_w.txt', 'r') as f:\n",
        "  weight = np.array(f.read().split())\n",
        "  weight = list(map(int,weight))\n",
        "\n",
        "with open(folder_path+'/p06_p.txt', 'r') as f:\n",
        "  profit = np.array(f.read().split())\n",
        "  profit = list(map(int,profit))\n",
        "\n",
        "with open(folder_path+'/p06_s.txt', 'r') as f:\n",
        "  solution = np.array(f.read().split())\n",
        "  solution = list(map(int,solution))\n",
        "\n",
        "# 調整資料格式\n",
        "item = np.dstack((weight,profit)) # 將weight與profit合併並與下方所有函數中的items做區隔\n",
        "item = np.reshape(item,(-1,2)) #  調整合併後的三維矩陣至二維\n"
      ]
    },
    {
      "cell_type": "code",
      "source": [
        "# Hill climbing\n",
        "import random\n",
        "import matplotlib.pyplot as plt\n",
        "\n",
        "# 迭代次數\n",
        "iterations = 100\n",
        "\n",
        "# 評估函數\n",
        "def total_profit(selected_items, items, capacity):\n",
        "    total_weight = 0\n",
        "    total_profit = 0\n",
        "    for i in range(len(items)):\n",
        "        if selected_items[i] == 1:\n",
        "            total_weight += items[i][0]\n",
        "            total_profit += items[i][1]\n",
        "    if total_weight > capacity:\n",
        "        return 0\n",
        "    return total_profit\n",
        "\n",
        "# 主要演算法\n",
        "def hill_climbing(capacity, items, max_iterations):\n",
        "\n",
        "    # 隨機生成初始解\n",
        "    best_solution = [random.choice([0, 1]) for i in range(len(items))]\n",
        "\n",
        "    # 紀錄初始解\n",
        "    best_profit = total_profit(best_solution, items, capacity)\n",
        "\n",
        "    # 鄰近解生成\n",
        "    neighbor = best_solution[:]\n",
        "\n",
        "    iteration_values = []\n",
        "    profit_values = []\n",
        "\n",
        "    for iteration in range(max_iterations):\n",
        "\n",
        "        # 隨機翻轉鄰近解的其中一個物品選取狀態\n",
        "        index = random.randint(0, len(items) - 1)\n",
        "        neighbor[index] = 1 - neighbor[index]\n",
        "        neighbor_profit = total_profit(neighbor, items, capacity)\n",
        "\n",
        "        # 選擇最優解,判斷鄰近解是否更好\n",
        "        if neighbor_profit > best_profit:\n",
        "            best_solution = neighbor[:]\n",
        "            best_profit = neighbor_profit\n",
        "\n",
        "        # 紀錄迭代情況\n",
        "        profit_values.append(best_profit)\n",
        "\n",
        "    # 回傳profit_values以方便繪製圖表\n",
        "    return best_solution, best_profit, profit_values\n",
        "\n",
        "# 執行Hill Climbing\n",
        "best_solution, best_profit, profit_values = hill_climbing(bag_capacity, item, iterations)\n",
        "\n",
        "# 繪製利潤與迭代次數圖表\n",
        "plt.plot(range(1, iterations + 1), profit_values)\n",
        "plt.xlabel('Iterations')\n",
        "plt.ylabel('Profits')\n",
        "plt.show()\n",
        "\n",
        "print(\"最優解的物品組合:\", best_solution)\n",
        "print(\"總利潤:\", best_profit)\n",
        "\n",
        "if best_solution == solution:\n",
        "  print('correct')"
      ],
      "metadata": {
        "colab": {
          "base_uri": "https://localhost:8080/",
          "height": 503
        },
        "id": "oVXw5b8cW-g2",
        "outputId": "421fa4d6-b7e6-4711-f49f-4791c7693ec5"
      },
      "execution_count": 3,
      "outputs": [
        {
          "output_type": "display_data",
          "data": {
            "text/plain": [
              "<Figure size 640x480 with 1 Axes>"
            ],
            "image/png": "[encoded data removed]"
          },
          "metadata": {}
        },
        {
          "output_type": "stream",
          "name": "stdout",
          "text": [
            "最優解的物品組合: [0, 1, 0, 1, 0, 0, 1]\n",
            "總利潤: 1735\n",
            "correct\n"
          ]
        }
      ]
    },
    {
      "cell_type": "code",
      "source": [
        "# Genetic algorithm\n",
        "import random\n",
        "import matplotlib.pyplot as plt\n",
        "\n",
        "# 基因演算法參數\n",
        "population_size = 15\n",
        "mutation_rate = 0.1\n",
        "generations = 100\n",
        "\n",
        "# 適應度函數\n",
        "def total_profit(selected_items, items, capacity):\n",
        "    total_weight = 0\n",
        "    total_profit = 0\n",
        "    for i in range(len(items)):\n",
        "        if selected_items[i] == 1:\n",
        "            total_weight += items[i][0]\n",
        "            total_profit += items[i][1]\n",
        "    if total_weight > capacity:\n",
        "        return 0\n",
        "    return total_profit\n",
        "\n",
        "# 初始化群體\n",
        "def initialize_population(items):\n",
        "    population = []\n",
        "    for i in range(population_size):\n",
        "        individual = [random.choice([0, 1]) for i in range(len(items))]\n",
        "        population.append(individual)\n",
        "    return population\n",
        "\n",
        "# 交叉操作,隨機擷取兩父代部分做交叉\n",
        "def crossover(parent1, parent2):\n",
        "    crossover_point = random.randint(1, len(parent1) - 1)\n",
        "    child1 = parent1[:crossover_point] + parent2[crossover_point:]\n",
        "    child2 = parent2[:crossover_point] + parent1[crossover_point:]\n",
        "    return child1, child2\n",
        "\n",
        "# 突變操作,透過調整mutation_rate可控制突變機率(%)\n",
        "def mutate(child):\n",
        "    for i in range(len(child)):\n",
        "        if random.random() < mutation_rate:\n",
        "            child[i] = 1 - child[i]\n",
        "    return child\n",
        "\n",
        "# 主要演算法\n",
        "def genetic_algorithm(items, capacity):\n",
        "    population = initialize_population(items) # 初始化群體\n",
        "    profit_value = [] # 紀錄迭代情況以方便繪圖\n",
        "    for i in range(generations):\n",
        "        population = sorted(population, key=lambda x: total_profit(x, items, capacity), reverse=True)  #  以totail_profit做大到小排序\n",
        "        next_generation = population[:population_size//2]  # 保留profit較大的半邊作為父代\n",
        "\n",
        "        # 隨機取兩父代交叉與子代突變\n",
        "        while len(next_generation) < population_size:\n",
        "            parent1, parent2 = random.choices(population[:population_size//2], k=2)\n",
        "            child1, child2 = crossover(parent1, parent2)\n",
        "            child1 = mutate(child1)\n",
        "            child2 = mutate(child2)\n",
        "            next_generation.extend([child1, child2])\n",
        "\n",
        "        # 將子代取代掉原population中profit較小的半邊\n",
        "        population = next_generation\n",
        "\n",
        "        # 紀錄迭代情況\n",
        "        profit_value.append(total_profit(max(population, key=lambda x: total_profit(x, items, capacity)), items, capacity)) #從新生成的後代與父代中取出最大profit\n",
        "\n",
        "    best_solution = max(population, key=lambda x: total_profit(x, items, capacity))\n",
        "    return best_solution, profit_value\n",
        "\n",
        "# 執行Genetic Algo\n",
        "best_solution, profit_value = genetic_algorithm(item, bag_capacity)\n",
        "\n",
        "# 繪製利潤與迭代次數圖表\n",
        "plt.plot(range(1, generations + 1), profit_value)\n",
        "plt.xlabel('Iterations')\n",
        "plt.ylabel('Profit')\n",
        "plt.show()\n",
        "\n",
        "print(\"Best Solution:\", best_solution)\n",
        "print(\"Best profit:\", profit_value[-1])\n",
        "\n",
        "if best_solution == solution:\n",
        "  print('correct')"
      ],
      "metadata": {
        "colab": {
          "base_uri": "https://localhost:8080/",
          "height": 503
        },
        "id": "5VPSnGenXCCm",
        "outputId": "1b89b587-13b3-4294-8d98-28a44032c586"
      },
      "execution_count": null,
      "outputs": [
        {
          "output_type": "display_data",
          "data": {
            "text/plain": [
              "<Figure size 640x480 with 1 Axes>"
            ],
            "image/png": "[encoded data removed]"
          },
          "metadata": {}
        },
        {
          "output_type": "stream",
          "name": "stdout",
          "text": [
            "Best Solution: [0, 1, 0, 1, 0, 0, 1]\n",
            "Best profit: 1735\n",
            "correct\n"
          ]
        }
      ]
    },
    {
      "cell_type": "code",
      "source": [],
      "metadata": {
        "id": "7sWVq7osXWzi"
      },
      "execution_count": null,
      "outputs": []
    }
  ]
}